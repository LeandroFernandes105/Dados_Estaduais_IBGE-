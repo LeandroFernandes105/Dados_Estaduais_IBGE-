{
 "cells": [
  {
   "cell_type": "code",
   "execution_count": null,
   "metadata": {},
   "outputs": [],
   "source": [
    "estados_brasil = \"\"\"UF [-],Código [-],Gentílico [-],Governador [2019],Capital [2010],Área Territorial - km² [2019],População estimada - pessoas [2020],Densidade demográfica - hab/km² [2010],Matrículas no ensino fundamental - matrículas [2018],IDH <span>Índice de desenvolvimento humano</span> [2010],Receitas realizadas - R$ (×1000) [2017],Despesas empenhadas - R$ (×1000) [2017],Rendimento mensal domiciliar per capita - R$ [2019],Total de veículos - veículos [2018],\n",
    "Acre,12,acriano,GLADSON DE LIMA CAMELI,Rio Branco,164123.964,894470,4.47,157646,0.663,6632883.10836,6084416.8063,890,277831,\n",
    "Alagoas,27,alagoano,JOSE RENAN VASCONCELOS CALHEIROS FILHO,Maceió,27843.295,3351543,112.33,490587,0.631,11950438.46015,10460634.91711,731,834827,\n",
    "Amapá,16,amapaense,ANTONIO WALDEZ GÓES DA SILVA,Macapá,142470.762,861773,4.69,136185,0.708,5396417.14471,4224464.08829,880,195039,\n",
    "Amazonas,13,amazonense,WILSON MIRANDA LIMA,Manaus,1559167.889,4207714,2.23,705007,0.674,17328459.43402,15324896.55705,842,883083,\n",
    "Bahia,29,baiano,RUI COSTA DOS SANTOS,Salvador,564760.427,14930634,24.82,2034711,0.660,50191003.24052,45570160.0038,913,4139107,\n",
    "Ceará,23,cearense,CAMILO SOBREIRA DE SANTANA,Fortaleza,148894.441,9187103,56.76,1198116,0.682,28420222.47191,24608352.18276,942,3148369,\n",
    "Distrito Federal,53,brasiliense,IBANEIS ROCHA BARROS JUNIOR,Brasília,5760.783,3055149,444.66,377622,0.824,23812211.27074,21990464.6849,2686,1812473,\n",
    "Espírito Santo,32,capixaba ou espírito-santense,JOSE RENATO CASAGRANDE,Vitória,46074.447,4064052,76.25,502059,0.740,19685616.74376,14392338.00188,1477,1936862,\n",
    "Goiás,52,goiano,RONALDO RAMOS CAIADO,Goiânia,340203.329,7113540,17.65,877593,0.735,37885335.16848,24248380.34233,1306,3909429,\n",
    "Maranhão,21,maranhense,FLÁVIO DINO DE CASTRO E COSTA,São Luís,329642.182,7114598,19.81,1178949,0.639,18503261.35491,17627170.75574,636,1696683,\n",
    "Mato Grosso,51,mato-grossense,MAURO MENDES FERREIRA,Cuiabá,903207.019,3526220,3.36,471613,0.725,23958528.83588,18187363.27009,1403,2080848,\n",
    "Mato Grosso do Sul,50,sul-mato-grossense ou mato-grossense-do-sul,REINALDO AZAMBUJA SILVA,Campo Grande,357145.534,2809394,6.86,404114,0.729,16396655.77012,14506915.37404,1514,1583142,\n",
    "Minas Gerais,31,mineiro,ROMEU ZEMA NETO,Belo Horizonte,586521.123,21292666,33.41,2511483,0.731,97199823.15616,98391669.16323,1358,11191341,\n",
    "Pará,15,paraense,HELDER ZAHLUTH BARBALHO,Belém,1245870.798,8690745,6.07,1439788,0.646,25849446.10454,22533470.04547,807,2013952,\n",
    "Paraíba,25,paraibano,JOÃO AZEVEDO LINS FILHO,João Pessoa,56467.242,4039277,66.70,556248,0.658,13097005.31928,10074700.04266,929,1293668,\n",
    "Paraná,41,paranaense,CARLOS ROBERTO MASSA JUNIOR,Curitiba,199298.979,11516840,52.40,1427218,0.749,60163576.12246,55534402.97483,1621,7571122,\n",
    "Pernambuco,26,pernambucano,PAULO HENRIQUE SARAIVA CÂMARA,Recife,98067.881,9616621,89.62,1301930,0.673,35746028.97102,33320486.44445,970,3010638,\n",
    "Piauí,22,piauiense,JOSÉ WELLINGTON BARROSO DE ARAÚJO DIAS,Teresina,251756.515,3281480,12.40,480126,0.646,12124215.61511,9676736.31835,827,1196192,\n",
    "Rio de Janeiro,33,fluminense,WILSON JOSÉ WITZEL,Rio de Janeiro,43750.427,17366189,365.23,2003315,0.761,78488140.78862,67965548.69757,1882,6725822,\n",
    "Rio Grande do Norte,24,potiguar ou  norte-rio-grandense ou  rio-grandense-do-norte,MARIA DE FATIMA BEZERRA,Natal,52809.602,3534165,59.99,467629,0.684,13527552.73159,11330957.55333,1057,1290903,\n",
    "Rio Grande do Sul,43,gaúcho ou sul-rio-grandense,EDUARDO FIGUEIREDO CAVALHEIRO LEITE,Porto Alegre,281707.156,11422973,37.96,1298736,0.746,66397468.17915,62476279.34364,1843,7077972,\n",
    "Rondônia,11,rondoniense ou rondoniano,MARCOS JOSE ROCHA DOS SANTOS,Porto Velho,237765.240,1796460,6.58,269626,0.690,9122310.72305,7085530.0168,1136,985047,\n",
    "Roraima,14,roraimense,ANTONIO OLIVERIO GARCIA DE ALMEIDA,Boa Vista,223644.527,631181,2.01,96582,0.707,4419450.41557,3384683.73914,1044,219290,\n",
    "Santa Catarina,42,catarinense ou barriga-verde,CARLOS MOISÉS DA SILVA,Florianópolis,95730.684,7252502,65.27,851993,0.774,34696772.82078,25595103.37918,1769,5152615,\n",
    "São Paulo,35,paulista,JOÃO AGRIPINO DA COSTA DORIA JUNIOR,São Paulo,248219.481,46289333,166.23,5367614,0.783,232822496.56706,231982243.69176,1946,29057749,\n",
    "Sergipe,28,sergipano ou sergipense,BELIVALDO CHAGAS SILVA,Aracaju,21925.424,2318822,94.36,331297,0.665,10145046.95355,8494927.19996,980,772380,\n",
    "Tocantins,17,tocantinense,MAURO CARLESSE,Palmas,277466.763,1590248,4.98,246183,0.699,10305099.01288,8929456.43836,1056,690169,\"\"\""
   ]
  },
  {
   "cell_type": "code",
   "execution_count": null,
   "metadata": {},
   "outputs": [
    {
     "name": "stdout",
     "output_type": "stream",
     "text": [
      "Acre\n",
      "Alagoas\n",
      "Amapá\n",
      "Amazonas\n",
      "Bahia\n",
      "Ceará\n",
      "Distrito Federal\n",
      "Espírito Santo\n",
      "Goiás\n",
      "Maranhão\n",
      "Mato Grosso\n",
      "Mato Grosso do Sul\n",
      "Minas Gerais\n",
      "Pará\n",
      "Paraíba\n",
      "Paraná\n",
      "Pernambuco\n",
      "Piauí\n",
      "Rio de Janeiro\n",
      "Rio Grande do Norte\n",
      "Rio Grande do Sul\n",
      "Rondônia\n",
      "Roraima\n",
      "Santa Catarina\n",
      "São Paulo\n",
      "Sergipe\n",
      "Tocantins\n"
     ]
    }
   ],
   "source": [
    "#1 nomes das colunas vira o nome das chaves dos dicionários e valores das colunas vira o valor de cada chave.\n",
    "for linha in estados_brasil.splitlines()[1:]:\n",
    "    uf =linha.split(',')[0]\n",
    "    print(uf)\n",
    "  \n"
   ]
  },
  {
   "cell_type": "code",
   "execution_count": null,
   "metadata": {},
   "outputs": [
    {
     "name": "stdout",
     "output_type": "stream",
     "text": [
      "{'Acre': {'UF [-]': 'Acre', 'Código [-]': '12', 'Gentílico [-]': 'acriano', 'Governador [2019]': 'GLADSON DE LIMA CAMELI', 'Capital [2010]': 'Rio Branco', 'Área Territorial - km² [2019]': '164123.964', 'População estimada - pessoas [2020]': '894470', 'Densidade demográfica - hab/km² [2010]': '4.47', 'Matrículas no ensino fundamental - matrículas [2018]': '157646', 'IDH <span>Índice de desenvolvimento humano</span> [2010]': '0.663', 'Receitas realizadas - R$ (×1000) [2017]': '6632883.10836', 'Despesas empenhadas - R$ (×1000) [2017]': '6084416.8063', 'Rendimento mensal domiciliar per capita - R$ [2019]': '890', 'Total de veículos - veículos [2018]': '277831', '': ''}, 'Alagoas': {'UF [-]': 'Alagoas', 'Código [-]': '27', 'Gentílico [-]': 'alagoano', 'Governador [2019]': 'JOSE RENAN VASCONCELOS CALHEIROS FILHO', 'Capital [2010]': 'Maceió', 'Área Territorial - km² [2019]': '27843.295', 'População estimada - pessoas [2020]': '3351543', 'Densidade demográfica - hab/km² [2010]': '112.33', 'Matrículas no ensino fundamental - matrículas [2018]': '490587', 'IDH <span>Índice de desenvolvimento humano</span> [2010]': '0.631', 'Receitas realizadas - R$ (×1000) [2017]': '11950438.46015', 'Despesas empenhadas - R$ (×1000) [2017]': '10460634.91711', 'Rendimento mensal domiciliar per capita - R$ [2019]': '731', 'Total de veículos - veículos [2018]': '834827', '': ''}, 'Amapá': {'UF [-]': 'Amapá', 'Código [-]': '16', 'Gentílico [-]': 'amapaense', 'Governador [2019]': 'ANTONIO WALDEZ GÓES DA SILVA', 'Capital [2010]': 'Macapá', 'Área Territorial - km² [2019]': '142470.762', 'População estimada - pessoas [2020]': '861773', 'Densidade demográfica - hab/km² [2010]': '4.69', 'Matrículas no ensino fundamental - matrículas [2018]': '136185', 'IDH <span>Índice de desenvolvimento humano</span> [2010]': '0.708', 'Receitas realizadas - R$ (×1000) [2017]': '5396417.14471', 'Despesas empenhadas - R$ (×1000) [2017]': '4224464.08829', 'Rendimento mensal domiciliar per capita - R$ [2019]': '880', 'Total de veículos - veículos [2018]': '195039', '': ''}, 'Amazonas': {'UF [-]': 'Amazonas', 'Código [-]': '13', 'Gentílico [-]': 'amazonense', 'Governador [2019]': 'WILSON MIRANDA LIMA', 'Capital [2010]': 'Manaus', 'Área Territorial - km² [2019]': '1559167.889', 'População estimada - pessoas [2020]': '4207714', 'Densidade demográfica - hab/km² [2010]': '2.23', 'Matrículas no ensino fundamental - matrículas [2018]': '705007', 'IDH <span>Índice de desenvolvimento humano</span> [2010]': '0.674', 'Receitas realizadas - R$ (×1000) [2017]': '17328459.43402', 'Despesas empenhadas - R$ (×1000) [2017]': '15324896.55705', 'Rendimento mensal domiciliar per capita - R$ [2019]': '842', 'Total de veículos - veículos [2018]': '883083', '': ''}, 'Bahia': {'UF [-]': 'Bahia', 'Código [-]': '29', 'Gentílico [-]': 'baiano', 'Governador [2019]': 'RUI COSTA DOS SANTOS', 'Capital [2010]': 'Salvador', 'Área Territorial - km² [2019]': '564760.427', 'População estimada - pessoas [2020]': '14930634', 'Densidade demográfica - hab/km² [2010]': '24.82', 'Matrículas no ensino fundamental - matrículas [2018]': '2034711', 'IDH <span>Índice de desenvolvimento humano</span> [2010]': '0.660', 'Receitas realizadas - R$ (×1000) [2017]': '50191003.24052', 'Despesas empenhadas - R$ (×1000) [2017]': '45570160.0038', 'Rendimento mensal domiciliar per capita - R$ [2019]': '913', 'Total de veículos - veículos [2018]': '4139107', '': ''}, 'Ceará': {'UF [-]': 'Ceará', 'Código [-]': '23', 'Gentílico [-]': 'cearense', 'Governador [2019]': 'CAMILO SOBREIRA DE SANTANA', 'Capital [2010]': 'Fortaleza', 'Área Territorial - km² [2019]': '148894.441', 'População estimada - pessoas [2020]': '9187103', 'Densidade demográfica - hab/km² [2010]': '56.76', 'Matrículas no ensino fundamental - matrículas [2018]': '1198116', 'IDH <span>Índice de desenvolvimento humano</span> [2010]': '0.682', 'Receitas realizadas - R$ (×1000) [2017]': '28420222.47191', 'Despesas empenhadas - R$ (×1000) [2017]': '24608352.18276', 'Rendimento mensal domiciliar per capita - R$ [2019]': '942', 'Total de veículos - veículos [2018]': '3148369', '': ''}, 'Distrito Federal': {'UF [-]': 'Distrito Federal', 'Código [-]': '53', 'Gentílico [-]': 'brasiliense', 'Governador [2019]': 'IBANEIS ROCHA BARROS JUNIOR', 'Capital [2010]': 'Brasília', 'Área Territorial - km² [2019]': '5760.783', 'População estimada - pessoas [2020]': '3055149', 'Densidade demográfica - hab/km² [2010]': '444.66', 'Matrículas no ensino fundamental - matrículas [2018]': '377622', 'IDH <span>Índice de desenvolvimento humano</span> [2010]': '0.824', 'Receitas realizadas - R$ (×1000) [2017]': '23812211.27074', 'Despesas empenhadas - R$ (×1000) [2017]': '21990464.6849', 'Rendimento mensal domiciliar per capita - R$ [2019]': '2686', 'Total de veículos - veículos [2018]': '1812473', '': ''}, 'Espírito Santo': {'UF [-]': 'Espírito Santo', 'Código [-]': '32', 'Gentílico [-]': 'capixaba ou espírito-santense', 'Governador [2019]': 'JOSE RENATO CASAGRANDE', 'Capital [2010]': 'Vitória', 'Área Territorial - km² [2019]': '46074.447', 'População estimada - pessoas [2020]': '4064052', 'Densidade demográfica - hab/km² [2010]': '76.25', 'Matrículas no ensino fundamental - matrículas [2018]': '502059', 'IDH <span>Índice de desenvolvimento humano</span> [2010]': '0.740', 'Receitas realizadas - R$ (×1000) [2017]': '19685616.74376', 'Despesas empenhadas - R$ (×1000) [2017]': '14392338.00188', 'Rendimento mensal domiciliar per capita - R$ [2019]': '1477', 'Total de veículos - veículos [2018]': '1936862', '': ''}, 'Goiás': {'UF [-]': 'Goiás', 'Código [-]': '52', 'Gentílico [-]': 'goiano', 'Governador [2019]': 'RONALDO RAMOS CAIADO', 'Capital [2010]': 'Goiânia', 'Área Territorial - km² [2019]': '340203.329', 'População estimada - pessoas [2020]': '7113540', 'Densidade demográfica - hab/km² [2010]': '17.65', 'Matrículas no ensino fundamental - matrículas [2018]': '877593', 'IDH <span>Índice de desenvolvimento humano</span> [2010]': '0.735', 'Receitas realizadas - R$ (×1000) [2017]': '37885335.16848', 'Despesas empenhadas - R$ (×1000) [2017]': '24248380.34233', 'Rendimento mensal domiciliar per capita - R$ [2019]': '1306', 'Total de veículos - veículos [2018]': '3909429', '': ''}, 'Maranhão': {'UF [-]': 'Maranhão', 'Código [-]': '21', 'Gentílico [-]': 'maranhense', 'Governador [2019]': 'FLÁVIO DINO DE CASTRO E COSTA', 'Capital [2010]': 'São Luís', 'Área Territorial - km² [2019]': '329642.182', 'População estimada - pessoas [2020]': '7114598', 'Densidade demográfica - hab/km² [2010]': '19.81', 'Matrículas no ensino fundamental - matrículas [2018]': '1178949', 'IDH <span>Índice de desenvolvimento humano</span> [2010]': '0.639', 'Receitas realizadas - R$ (×1000) [2017]': '18503261.35491', 'Despesas empenhadas - R$ (×1000) [2017]': '17627170.75574', 'Rendimento mensal domiciliar per capita - R$ [2019]': '636', 'Total de veículos - veículos [2018]': '1696683', '': ''}, 'Mato Grosso': {'UF [-]': 'Mato Grosso', 'Código [-]': '51', 'Gentílico [-]': 'mato-grossense', 'Governador [2019]': 'MAURO MENDES FERREIRA', 'Capital [2010]': 'Cuiabá', 'Área Territorial - km² [2019]': '903207.019', 'População estimada - pessoas [2020]': '3526220', 'Densidade demográfica - hab/km² [2010]': '3.36', 'Matrículas no ensino fundamental - matrículas [2018]': '471613', 'IDH <span>Índice de desenvolvimento humano</span> [2010]': '0.725', 'Receitas realizadas - R$ (×1000) [2017]': '23958528.83588', 'Despesas empenhadas - R$ (×1000) [2017]': '18187363.27009', 'Rendimento mensal domiciliar per capita - R$ [2019]': '1403', 'Total de veículos - veículos [2018]': '2080848', '': ''}, 'Mato Grosso do Sul': {'UF [-]': 'Mato Grosso do Sul', 'Código [-]': '50', 'Gentílico [-]': 'sul-mato-grossense ou mato-grossense-do-sul', 'Governador [2019]': 'REINALDO AZAMBUJA SILVA', 'Capital [2010]': 'Campo Grande', 'Área Territorial - km² [2019]': '357145.534', 'População estimada - pessoas [2020]': '2809394', 'Densidade demográfica - hab/km² [2010]': '6.86', 'Matrículas no ensino fundamental - matrículas [2018]': '404114', 'IDH <span>Índice de desenvolvimento humano</span> [2010]': '0.729', 'Receitas realizadas - R$ (×1000) [2017]': '16396655.77012', 'Despesas empenhadas - R$ (×1000) [2017]': '14506915.37404', 'Rendimento mensal domiciliar per capita - R$ [2019]': '1514', 'Total de veículos - veículos [2018]': '1583142', '': ''}, 'Minas Gerais': {'UF [-]': 'Minas Gerais', 'Código [-]': '31', 'Gentílico [-]': 'mineiro', 'Governador [2019]': 'ROMEU ZEMA NETO', 'Capital [2010]': 'Belo Horizonte', 'Área Territorial - km² [2019]': '586521.123', 'População estimada - pessoas [2020]': '21292666', 'Densidade demográfica - hab/km² [2010]': '33.41', 'Matrículas no ensino fundamental - matrículas [2018]': '2511483', 'IDH <span>Índice de desenvolvimento humano</span> [2010]': '0.731', 'Receitas realizadas - R$ (×1000) [2017]': '97199823.15616', 'Despesas empenhadas - R$ (×1000) [2017]': '98391669.16323', 'Rendimento mensal domiciliar per capita - R$ [2019]': '1358', 'Total de veículos - veículos [2018]': '11191341', '': ''}, 'Pará': {'UF [-]': 'Pará', 'Código [-]': '15', 'Gentílico [-]': 'paraense', 'Governador [2019]': 'HELDER ZAHLUTH BARBALHO', 'Capital [2010]': 'Belém', 'Área Territorial - km² [2019]': '1245870.798', 'População estimada - pessoas [2020]': '8690745', 'Densidade demográfica - hab/km² [2010]': '6.07', 'Matrículas no ensino fundamental - matrículas [2018]': '1439788', 'IDH <span>Índice de desenvolvimento humano</span> [2010]': '0.646', 'Receitas realizadas - R$ (×1000) [2017]': '25849446.10454', 'Despesas empenhadas - R$ (×1000) [2017]': '22533470.04547', 'Rendimento mensal domiciliar per capita - R$ [2019]': '807', 'Total de veículos - veículos [2018]': '2013952', '': ''}, 'Paraíba': {'UF [-]': 'Paraíba', 'Código [-]': '25', 'Gentílico [-]': 'paraibano', 'Governador [2019]': 'JOÃO AZEVEDO LINS FILHO', 'Capital [2010]': 'João Pessoa', 'Área Territorial - km² [2019]': '56467.242', 'População estimada - pessoas [2020]': '4039277', 'Densidade demográfica - hab/km² [2010]': '66.70', 'Matrículas no ensino fundamental - matrículas [2018]': '556248', 'IDH <span>Índice de desenvolvimento humano</span> [2010]': '0.658', 'Receitas realizadas - R$ (×1000) [2017]': '13097005.31928', 'Despesas empenhadas - R$ (×1000) [2017]': '10074700.04266', 'Rendimento mensal domiciliar per capita - R$ [2019]': '929', 'Total de veículos - veículos [2018]': '1293668', '': ''}, 'Paraná': {'UF [-]': 'Paraná', 'Código [-]': '41', 'Gentílico [-]': 'paranaense', 'Governador [2019]': 'CARLOS ROBERTO MASSA JUNIOR', 'Capital [2010]': 'Curitiba', 'Área Territorial - km² [2019]': '199298.979', 'População estimada - pessoas [2020]': '11516840', 'Densidade demográfica - hab/km² [2010]': '52.40', 'Matrículas no ensino fundamental - matrículas [2018]': '1427218', 'IDH <span>Índice de desenvolvimento humano</span> [2010]': '0.749', 'Receitas realizadas - R$ (×1000) [2017]': '60163576.12246', 'Despesas empenhadas - R$ (×1000) [2017]': '55534402.97483', 'Rendimento mensal domiciliar per capita - R$ [2019]': '1621', 'Total de veículos - veículos [2018]': '7571122', '': ''}, 'Pernambuco': {'UF [-]': 'Pernambuco', 'Código [-]': '26', 'Gentílico [-]': 'pernambucano', 'Governador [2019]': 'PAULO HENRIQUE SARAIVA CÂMARA', 'Capital [2010]': 'Recife', 'Área Territorial - km² [2019]': '98067.881', 'População estimada - pessoas [2020]': '9616621', 'Densidade demográfica - hab/km² [2010]': '89.62', 'Matrículas no ensino fundamental - matrículas [2018]': '1301930', 'IDH <span>Índice de desenvolvimento humano</span> [2010]': '0.673', 'Receitas realizadas - R$ (×1000) [2017]': '35746028.97102', 'Despesas empenhadas - R$ (×1000) [2017]': '33320486.44445', 'Rendimento mensal domiciliar per capita - R$ [2019]': '970', 'Total de veículos - veículos [2018]': '3010638', '': ''}, 'Piauí': {'UF [-]': 'Piauí', 'Código [-]': '22', 'Gentílico [-]': 'piauiense', 'Governador [2019]': 'JOSÉ WELLINGTON BARROSO DE ARAÚJO DIAS', 'Capital [2010]': 'Teresina', 'Área Territorial - km² [2019]': '251756.515', 'População estimada - pessoas [2020]': '3281480', 'Densidade demográfica - hab/km² [2010]': '12.40', 'Matrículas no ensino fundamental - matrículas [2018]': '480126', 'IDH <span>Índice de desenvolvimento humano</span> [2010]': '0.646', 'Receitas realizadas - R$ (×1000) [2017]': '12124215.61511', 'Despesas empenhadas - R$ (×1000) [2017]': '9676736.31835', 'Rendimento mensal domiciliar per capita - R$ [2019]': '827', 'Total de veículos - veículos [2018]': '1196192', '': ''}, 'Rio de Janeiro': {'UF [-]': 'Rio de Janeiro', 'Código [-]': '33', 'Gentílico [-]': 'fluminense', 'Governador [2019]': 'WILSON JOSÉ WITZEL', 'Capital [2010]': 'Rio de Janeiro', 'Área Territorial - km² [2019]': '43750.427', 'População estimada - pessoas [2020]': '17366189', 'Densidade demográfica - hab/km² [2010]': '365.23', 'Matrículas no ensino fundamental - matrículas [2018]': '2003315', 'IDH <span>Índice de desenvolvimento humano</span> [2010]': '0.761', 'Receitas realizadas - R$ (×1000) [2017]': '78488140.78862', 'Despesas empenhadas - R$ (×1000) [2017]': '67965548.69757', 'Rendimento mensal domiciliar per capita - R$ [2019]': '1882', 'Total de veículos - veículos [2018]': '6725822', '': ''}, 'Rio Grande do Norte': {'UF [-]': 'Rio Grande do Norte', 'Código [-]': '24', 'Gentílico [-]': 'potiguar ou  norte-rio-grandense ou  rio-grandense-do-norte', 'Governador [2019]': 'MARIA DE FATIMA BEZERRA', 'Capital [2010]': 'Natal', 'Área Territorial - km² [2019]': '52809.602', 'População estimada - pessoas [2020]': '3534165', 'Densidade demográfica - hab/km² [2010]': '59.99', 'Matrículas no ensino fundamental - matrículas [2018]': '467629', 'IDH <span>Índice de desenvolvimento humano</span> [2010]': '0.684', 'Receitas realizadas - R$ (×1000) [2017]': '13527552.73159', 'Despesas empenhadas - R$ (×1000) [2017]': '11330957.55333', 'Rendimento mensal domiciliar per capita - R$ [2019]': '1057', 'Total de veículos - veículos [2018]': '1290903', '': ''}, 'Rio Grande do Sul': {'UF [-]': 'Rio Grande do Sul', 'Código [-]': '43', 'Gentílico [-]': 'gaúcho ou sul-rio-grandense', 'Governador [2019]': 'EDUARDO FIGUEIREDO CAVALHEIRO LEITE', 'Capital [2010]': 'Porto Alegre', 'Área Territorial - km² [2019]': '281707.156', 'População estimada - pessoas [2020]': '11422973', 'Densidade demográfica - hab/km² [2010]': '37.96', 'Matrículas no ensino fundamental - matrículas [2018]': '1298736', 'IDH <span>Índice de desenvolvimento humano</span> [2010]': '0.746', 'Receitas realizadas - R$ (×1000) [2017]': '66397468.17915', 'Despesas empenhadas - R$ (×1000) [2017]': '62476279.34364', 'Rendimento mensal domiciliar per capita - R$ [2019]': '1843', 'Total de veículos - veículos [2018]': '7077972', '': ''}, 'Rondônia': {'UF [-]': 'Rondônia', 'Código [-]': '11', 'Gentílico [-]': 'rondoniense ou rondoniano', 'Governador [2019]': 'MARCOS JOSE ROCHA DOS SANTOS', 'Capital [2010]': 'Porto Velho', 'Área Territorial - km² [2019]': '237765.240', 'População estimada - pessoas [2020]': '1796460', 'Densidade demográfica - hab/km² [2010]': '6.58', 'Matrículas no ensino fundamental - matrículas [2018]': '269626', 'IDH <span>Índice de desenvolvimento humano</span> [2010]': '0.690', 'Receitas realizadas - R$ (×1000) [2017]': '9122310.72305', 'Despesas empenhadas - R$ (×1000) [2017]': '7085530.0168', 'Rendimento mensal domiciliar per capita - R$ [2019]': '1136', 'Total de veículos - veículos [2018]': '985047', '': ''}, 'Roraima': {'UF [-]': 'Roraima', 'Código [-]': '14', 'Gentílico [-]': 'roraimense', 'Governador [2019]': 'ANTONIO OLIVERIO GARCIA DE ALMEIDA', 'Capital [2010]': 'Boa Vista', 'Área Territorial - km² [2019]': '223644.527', 'População estimada - pessoas [2020]': '631181', 'Densidade demográfica - hab/km² [2010]': '2.01', 'Matrículas no ensino fundamental - matrículas [2018]': '96582', 'IDH <span>Índice de desenvolvimento humano</span> [2010]': '0.707', 'Receitas realizadas - R$ (×1000) [2017]': '4419450.41557', 'Despesas empenhadas - R$ (×1000) [2017]': '3384683.73914', 'Rendimento mensal domiciliar per capita - R$ [2019]': '1044', 'Total de veículos - veículos [2018]': '219290', '': ''}, 'Santa Catarina': {'UF [-]': 'Santa Catarina', 'Código [-]': '42', 'Gentílico [-]': 'catarinense ou barriga-verde', 'Governador [2019]': 'CARLOS MOISÉS DA SILVA', 'Capital [2010]': 'Florianópolis', 'Área Territorial - km² [2019]': '95730.684', 'População estimada - pessoas [2020]': '7252502', 'Densidade demográfica - hab/km² [2010]': '65.27', 'Matrículas no ensino fundamental - matrículas [2018]': '851993', 'IDH <span>Índice de desenvolvimento humano</span> [2010]': '0.774', 'Receitas realizadas - R$ (×1000) [2017]': '34696772.82078', 'Despesas empenhadas - R$ (×1000) [2017]': '25595103.37918', 'Rendimento mensal domiciliar per capita - R$ [2019]': '1769', 'Total de veículos - veículos [2018]': '5152615', '': ''}, 'São Paulo': {'UF [-]': 'São Paulo', 'Código [-]': '35', 'Gentílico [-]': 'paulista', 'Governador [2019]': 'JOÃO AGRIPINO DA COSTA DORIA JUNIOR', 'Capital [2010]': 'São Paulo', 'Área Territorial - km² [2019]': '248219.481', 'População estimada - pessoas [2020]': '46289333', 'Densidade demográfica - hab/km² [2010]': '166.23', 'Matrículas no ensino fundamental - matrículas [2018]': '5367614', 'IDH <span>Índice de desenvolvimento humano</span> [2010]': '0.783', 'Receitas realizadas - R$ (×1000) [2017]': '232822496.56706', 'Despesas empenhadas - R$ (×1000) [2017]': '231982243.69176', 'Rendimento mensal domiciliar per capita - R$ [2019]': '1946', 'Total de veículos - veículos [2018]': '29057749', '': ''}, 'Sergipe': {'UF [-]': 'Sergipe', 'Código [-]': '28', 'Gentílico [-]': 'sergipano ou sergipense', 'Governador [2019]': 'BELIVALDO CHAGAS SILVA', 'Capital [2010]': 'Aracaju', 'Área Territorial - km² [2019]': '21925.424', 'População estimada - pessoas [2020]': '2318822', 'Densidade demográfica - hab/km² [2010]': '94.36', 'Matrículas no ensino fundamental - matrículas [2018]': '331297', 'IDH <span>Índice de desenvolvimento humano</span> [2010]': '0.665', 'Receitas realizadas - R$ (×1000) [2017]': '10145046.95355', 'Despesas empenhadas - R$ (×1000) [2017]': '8494927.19996', 'Rendimento mensal domiciliar per capita - R$ [2019]': '980', 'Total de veículos - veículos [2018]': '772380', '': ''}, 'Tocantins': {'UF [-]': 'Tocantins', 'Código [-]': '17', 'Gentílico [-]': 'tocantinense', 'Governador [2019]': 'MAURO CARLESSE', 'Capital [2010]': 'Palmas', 'Área Territorial - km² [2019]': '277466.763', 'População estimada - pessoas [2020]': '1590248', 'Densidade demográfica - hab/km² [2010]': '4.98', 'Matrículas no ensino fundamental - matrículas [2018]': '246183', 'IDH <span>Índice de desenvolvimento humano</span> [2010]': '0.699', 'Receitas realizadas - R$ (×1000) [2017]': '10305099.01288', 'Despesas empenhadas - R$ (×1000) [2017]': '8929456.43836', 'Rendimento mensal domiciliar per capita - R$ [2019]': '1056', 'Total de veículos - veículos [2018]': '690169', '': ''}}\n"
     ]
    }
   ],
   "source": [
    "#1 nomes das colunas vire o nome das chaves dos dicionários e valores das colunas vira o valor de cada chave.\n",
    "dict_estados= {}\n",
    "cabecalho =estados_brasil.splitlines()[0].split(',')\n",
    "for linha in estados_brasil.splitlines()[1:]:\n",
    "  linhaLista = linha.split(',')\n",
    "  dictUf={ cabecalho[x] : linhaLista[x] for x in range(len(cabecalho)) } ## gera lista de numer que vai de 0 a 14\n",
    "  uf =linhaLista[0]\n",
    "  dict_estados[uf]=dictUf\n",
    "print(dict_estados)    \n",
    "\n",
    "\n",
    "\n",
    "   "
   ]
  },
  {
   "cell_type": "code",
   "execution_count": null,
   "metadata": {},
   "outputs": [
    {
     "name": "stdout",
     "output_type": "stream",
     "text": [
      "ANTONIO OLIVERIO GARCIA DE ALMEIDA\n"
     ]
    }
   ],
   "source": [
    "#2 Imprima qual o nome do governador de Roraima.\n",
    "print(dict_estados['Roraima']['Governador [2019]'])"
   ]
  },
  {
   "cell_type": "code",
   "execution_count": null,
   "metadata": {},
   "outputs": [
    {
     "name": "stdout",
     "output_type": "stream",
     "text": [
      "potiguar ou  norte-rio-grandense ou  rio-grandense-do-norte\n"
     ]
    }
   ],
   "source": [
    "#3 Imprima qual o gentílico de quem nas no Rio Grande do Norte.\n",
    "print(dict_estados['Rio Grande do Norte']['Gentílico [-]'])\n",
    "\n",
    "\n"
   ]
  },
  {
   "cell_type": "code",
   "execution_count": null,
   "metadata": {},
   "outputs": [
    {
     "name": "stdout",
     "output_type": "stream",
     "text": [
      "Macapá\n"
     ]
    }
   ],
   "source": [
    "#4 Imprima qual o capital do estado do Amapá.\n",
    "print(dict_estados['Amapá']['Capital [2010]'])"
   ]
  },
  {
   "cell_type": "code",
   "execution_count": null,
   "metadata": {},
   "outputs": [
    {
     "name": "stdout",
     "output_type": "stream",
     "text": [
      "Área total do Brasil: 8.510.295.91\n"
     ]
    }
   ],
   "source": [
    "#5 Imprima o total da área territorial do Brasil.\n",
    "\n",
    "areaBrasil =0\n",
    "for dados  in dict_estados.values():\n",
    "    \n",
    "    areaBrasil +=float(dados['Área Territorial - km² [2019]']) ##convertendo string em float\n",
    "\n",
    "print(f'Área total do Brasil: {areaBrasil:,.2f}'.replace(\",\", \".\"))\n",
    "\n",
    "\n",
    "\n",
    "\n",
    "\n",
    "\n"
   ]
  },
  {
   "cell_type": "code",
   "execution_count": null,
   "metadata": {},
   "outputs": [
    {
     "name": "stdout",
     "output_type": "stream",
     "text": [
      "População estimada do Brasil: 211.755.692\n"
     ]
    }
   ],
   "source": [
    "#6 Imprima o total da população estimada do Brasil.\n",
    "populacaoBrasil =0\n",
    "for dados  in dict_estados.values():\n",
    "    \n",
    "    populacaoBrasil +=float(dados['População estimada - pessoas [2020]']) ##convertendo string em float\n",
    "\n",
    "print(f'População estimada do Brasil: {populacaoBrasil:,.0f}'.replace(\",\", \".\"))\n",
    "\n",
    "\n",
    "\n"
   ]
  },
  {
   "cell_type": "code",
   "execution_count": null,
   "metadata": {},
   "outputs": [
    {
     "name": "stdout",
     "output_type": "stream",
     "text": [
      "Total de veículos no Brasil: 100.746.553\n"
     ]
    }
   ],
   "source": [
    "#7 Imprima o total de veículos do Brasil.\n",
    "totalVeiculos =0\n",
    "for dados  in dict_estados.values():\n",
    "    \n",
    "    totalVeiculos +=float(dados['Total de veículos - veículos [2018]']) ##convertendo string em float\n",
    "\n",
    "print(f\"Total de veículos no Brasil: {totalVeiculos:,.0f}\".replace(\",\", '.'))"
   ]
  },
  {
   "cell_type": "code",
   "execution_count": null,
   "metadata": {},
   "outputs": [
    {
     "name": "stdout",
     "output_type": "stream",
     "text": [
      "O estado Distrito Federal tem a maior densidade demográfica, que é 444.66 hab/km².\n"
     ]
    }
   ],
   "source": [
    "#8 Imprima o nome do estado de maior densidade demográfica\n",
    "maiorDensidade =0\n",
    "maiorEstado = ''\n",
    "for  estado,dados  in dict_estados.items():\n",
    "    \n",
    "   densideAtual =float(dados['Densidade demográfica - hab/km² [2010]']) ##convertendo string em float\n",
    "\n",
    "   if maiorDensidade < densideAtual:\n",
    "    maiorDensidade = densideAtual\n",
    "    maiorEstado = estado\n",
    "\n",
    "print(f'O estado {maiorEstado} tem a maior densidade demográfica, que é {maiorDensidade:.2f} hab/km².')\n",
    "\n",
    "\n",
    "\n",
    "\n"
   ]
  },
  {
   "cell_type": "code",
   "execution_count": null,
   "metadata": {},
   "outputs": [
    {
     "name": "stdout",
     "output_type": "stream",
     "text": [
      "O estado Roraima tem a menor densidade demográfica, que é 2.01 hab/km².\n"
     ]
    }
   ],
   "source": [
    "#9 Imprima o estado de menor população\n",
    "menorDensidade =9999999\n",
    "menorEstado = ''\n",
    "for  estado,dados  in dict_estados.items():\n",
    "    \n",
    "   densideAtual =float(dados['Densidade demográfica - hab/km² [2010]']) ##convertendo string em float\n",
    "\n",
    "   if densideAtual  <  menorDensidade :\n",
    "    menorDensidade = densideAtual\n",
    "    menorEstado = estado\n",
    "\n",
    "print(f'O estado {menorEstado} tem a menor densidade demográfica, que é {menorDensidade:.2f} hab/km².')"
   ]
  },
  {
   "cell_type": "code",
   "execution_count": null,
   "metadata": {},
   "outputs": [
    {
     "name": "stdout",
     "output_type": "stream",
     "text": [
      "Média da população dos estados: 7.842.803\n"
     ]
    }
   ],
   "source": [
    "#10 Imprima a média de população dos estados\n",
    "mediaPopulacao = sum(int(d[\"População estimada - pessoas [2020]\"]) for d in dict_estados.values()) / len(dict_estados)\n",
    "print(f\"Média da população dos estados: {mediaPopulacao:,.0f}\".replace(\",\", \".\"))"
   ]
  },
  {
   "cell_type": "code",
   "execution_count": null,
   "metadata": {},
   "outputs": [
    {
     "name": "stdout",
     "output_type": "stream",
     "text": [
      "Média da densidade demográfica dos estados: 68.04\n"
     ]
    }
   ],
   "source": [
    "#11 Imprima a média de densidade demográfica dos estados\n",
    "\n",
    "mediaDensidade = sum(float(d[\"Densidade demográfica - hab/km² [2010]\"]) for d in dict_estados.values()) / len(dict_estados)\n",
    "print(f\"Média da densidade demográfica dos estados: {mediaDensidade:.2f}\")\n",
    "\n"
   ]
  },
  {
   "cell_type": "code",
   "execution_count": null,
   "metadata": {},
   "outputs": [
    {
     "name": "stdout",
     "output_type": "stream",
     "text": [
      "Governador do estado com menor IDH: JOSE RENAN VASCONCELOS CALHEIROS FILHO\n"
     ]
    }
   ],
   "source": [
    "#12 Imprima o nome do Governando do Estado com menor IDH\n",
    "estadoMenorIdh = min(dict_estados, key=lambda x: float(dict_estados[x][\"IDH <span>Índice de desenvolvimento humano</span> [2010]\"]))\n",
    "print(f\"Governador do estado com menor IDH: {dict_estados[estadoMenorIdh]['Governador [2019]']}\")"
   ]
  },
  {
   "cell_type": "code",
   "execution_count": null,
   "metadata": {},
   "outputs": [
    {
     "name": "stdout",
     "output_type": "stream",
     "text": [
      "Capital do estado com maior IDH: Brasília\n"
     ]
    }
   ],
   "source": [
    "#13 Imprima o nome da Capital do estado com maior IDH\n",
    "estadoMaiorIdh = max(dict_estados, key=lambda x: float(dict_estados[x][\"IDH <span>Índice de desenvolvimento humano</span> [2010]\"]))\n",
    "print(f\"Capital do estado com maior IDH: {dict_estados[estadoMaiorIdh]['Capital [2010]']}\")"
   ]
  },
  {
   "cell_type": "code",
   "execution_count": null,
   "metadata": {},
   "outputs": [
    {
     "name": "stdout",
     "output_type": "stream",
     "text": [
      "\n",
      "Receita realizada dos estados da região Sul:\n",
      "Paraná: R$ 60.163.576.12\n",
      "Santa Catarina: R$ 34.696.772.82\n",
      "Rio Grande do Sul: R$ 66.397.468.18\n"
     ]
    }
   ],
   "source": [
    "#14 Nome do estado e valor da receita realizada dos estados da região Sul\n",
    "estadosSul = [\"Paraná\", \"Santa Catarina\", \"Rio Grande do Sul\"]\n",
    "print(\"\\nReceita realizada dos estados da região Sul:\")\n",
    "for estado in estadosSul:\n",
    "    receita = float(dict_estados[estado][\"Receitas realizadas - R$ (×1000) [2017]\"])\n",
    "    print(f\"{estado}: R$ {receita:,.2f}\".replace(\",\", \".\"))"
   ]
  },
  {
   "cell_type": "code",
   "execution_count": null,
   "metadata": {},
   "outputs": [
    {
     "name": "stdout",
     "output_type": "stream",
     "text": [
      "\n",
      "Receita realizada dos estados da região Norte:\n",
      "Acre: R$ 6.632.883.11\n",
      "Amapá: R$ 5.396.417.14\n",
      "Amazonas: R$ 17.328.459.43\n",
      "Pará: R$ 25.849.446.10\n",
      "Rondônia: R$ 9.122.310.72\n",
      "Roraima: R$ 4.419.450.42\n",
      "Tocantins: R$ 10.305.099.01\n"
     ]
    }
   ],
   "source": [
    "#15 Nome do estado e valor da receita realizada dos estados da região Norte\n",
    "\n",
    "estadosNorte = [\"Acre\", \"Amapá\", \"Amazonas\", \"Pará\", \"Rondônia\", \"Roraima\", \"Tocantins\"]\n",
    "\n",
    "print(\"\\nReceita realizada dos estados da região Norte:\")\n",
    "for estado in estadosNorte:\n",
    "    receita = float(dict_estados[estado][\"Receitas realizadas - R$ (×1000) [2017]\"])\n",
    "    print(f\"{estado}: R$ {receita:,.2f}\".replace(\",\", \".\"))\n"
   ]
  },
  {
   "cell_type": "code",
   "execution_count": null,
   "metadata": {},
   "outputs": [
    {
     "name": "stdout",
     "output_type": "stream",
     "text": [
      "\n",
      "Receita realizada dos estados da região Centro-Oeste:\n",
      "Distrito Federal: R$ 23.812.211.27\n",
      "Goiás: R$ 37.885.335.17\n",
      "Mato Grosso: R$ 23.958.528.84\n",
      "Mato Grosso do Sul: R$ 16.396.655.77\n"
     ]
    }
   ],
   "source": [
    "#16 ome do estado e valor da receita realizada dos estados da região centro-Oeste\n",
    "estadosCentroOeste = [\"Distrito Federal\", \"Goiás\", \"Mato Grosso\", \"Mato Grosso do Sul\"]\n",
    "print(\"\\nReceita realizada dos estados da região Centro-Oeste:\")\n",
    "for estado in estadosCentroOeste:\n",
    "    receita = float(dict_estados[estado][\"Receitas realizadas - R$ (×1000) [2017]\"])\n",
    "    print(f\"{estado}: R$ {receita:,.2f}\".replace(\",\", \".\"))\n"
   ]
  },
  {
   "cell_type": "code",
   "execution_count": null,
   "metadata": {},
   "outputs": [
    {
     "name": "stdout",
     "output_type": "stream",
     "text": [
      "\n",
      "Receita realizada dos estados da região Sudeste:\n",
      "Espírito Santo: R$ 19.685.616.74\n",
      "Minas Gerais: R$ 97.199.823.16\n",
      "Rio de Janeiro: R$ 78.488.140.79\n",
      "São Paulo: R$ 232.822.496.57\n"
     ]
    }
   ],
   "source": [
    "#17 Nome do estado e valor da receita realizada dos estados da região Sudeste\n",
    "estadosSudeste = [\"Espírito Santo\", \"Minas Gerais\", \"Rio de Janeiro\", \"São Paulo\"]\n",
    "\n",
    "print(\"\\nReceita realizada dos estados da região Sudeste:\")\n",
    "for estado in estadosSudeste:\n",
    "    receita = float(dict_estados[estado][\"Receitas realizadas - R$ (×1000) [2017]\"])\n",
    "    print(f\"{estado}: R$ {receita:,.2f}\".replace(\",\", \".\"))"
   ]
  },
  {
   "cell_type": "code",
   "execution_count": null,
   "metadata": {},
   "outputs": [
    {
     "name": "stdout",
     "output_type": "stream",
     "text": [
      "\n",
      "Receita realizada dos estados da região Nordeste:\n",
      "Alagoas: R$ 11.950.438.46\n",
      "Bahia: R$ 50.191.003.24\n",
      "Ceará: R$ 28.420.222.47\n",
      "Maranhão: R$ 18.503.261.35\n",
      "Paraíba: R$ 13.097.005.32\n",
      "Pernambuco: R$ 35.746.028.97\n",
      "Piauí: R$ 12.124.215.62\n",
      "Rio Grande do Norte: R$ 13.527.552.73\n",
      "Sergipe: R$ 10.145.046.95\n"
     ]
    }
   ],
   "source": [
    "#18 Nome do estado e valor da receita realizada dos estados da região Nordeste\n",
    "\n",
    "estadosNordeste = [\"Alagoas\", \"Bahia\", \"Ceará\", \"Maranhão\", \"Paraíba\", \"Pernambuco\", \"Piauí\", \"Rio Grande do Norte\", \"Sergipe\"]\n",
    "print(\"\\nReceita realizada dos estados da região Nordeste:\")\n",
    "for estado in estadosNordeste:\n",
    "    receita = float(dict_estados[estado][\"Receitas realizadas - R$ (×1000) [2017]\"])\n",
    "    print(f\"{estado}: R$ {receita:,.2f}\".replace(\",\", \".\"))"
   ]
  }
 ],
 "metadata": {
  "kernelspec": {
   "display_name": "Python 3",
   "language": "python",
   "name": "python3"
  },
  "language_info": {
   "codemirror_mode": {
    "name": "ipython",
    "version": 3
   },
   "file_extension": ".py",
   "mimetype": "text/x-python",
   "name": "python",
   "nbconvert_exporter": "python",
   "pygments_lexer": "ipython3",
   "version": "3.13.2"
  }
 },
 "nbformat": 4,
 "nbformat_minor": 2
}
